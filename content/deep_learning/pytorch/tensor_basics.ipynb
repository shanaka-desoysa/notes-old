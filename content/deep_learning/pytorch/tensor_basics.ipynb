{
  "nbformat": 4,
  "nbformat_minor": 0,
  "metadata": {
    "kernelspec": {
      "display_name": "Python 3",
      "language": "python",
      "name": "python3"
    },
    "language_info": {
      "codemirror_mode": {
        "name": "ipython",
        "version": 3
      },
      "file_extension": ".py",
      "mimetype": "text/x-python",
      "name": "python",
      "nbconvert_exporter": "python",
      "pygments_lexer": "ipython3",
      "version": "3.7.3"
    },
    "colab": {
      "name": "00-Tensor-Basics.ipynb",
      "provenance": []
    }
  },
  "cells": [
    {
      "cell_type": "markdown",
      "metadata": {
        "id": "sUqFY4Cse1r3",
        "colab_type": "text"
      },
      "source": [
        "---\n",
        "title: \"PyTorch Tensor Basics\"\n",
        "author: \"Shanaka DeSoysa\"\n",
        "date: 2020-05-14T00:00:00-07:00\n",
        "description: \"Converting NumPy arrays to PyTorch tensors and creating tensors from scratch\"\n",
        "type: technical_note\n",
        "draft: false\n",
        "---"
      ]
    },
    {
      "cell_type": "markdown",
      "metadata": {
        "id": "o-0ZCWbXe1r4",
        "colab_type": "text"
      },
      "source": [
        "This section covers:\n",
        "* Converting NumPy arrays to PyTorch tensors\n",
        "* Creating tensors from scratch\n",
        "\n",
        "## Perform standard imports"
      ]
    },
    {
      "cell_type": "code",
      "metadata": {
        "id": "29R0QKcAe1r5",
        "colab_type": "code",
        "colab": {}
      },
      "source": [
        "import torch\n",
        "import numpy as np"
      ],
      "execution_count": 0,
      "outputs": []
    },
    {
      "cell_type": "markdown",
      "metadata": {
        "id": "uMRa0Wqye1r9",
        "colab_type": "text"
      },
      "source": [
        "Confirm you're using PyTorch version 1.1.0"
      ]
    },
    {
      "cell_type": "code",
      "metadata": {
        "id": "kvfzy6AQe1r-",
        "colab_type": "code",
        "outputId": "d85a7485-83cd-4d4a-817c-31a405b05c8d",
        "colab": {
          "base_uri": "https://localhost:8080/",
          "height": 34
        }
      },
      "source": [
        "torch.__version__"
      ],
      "execution_count": 2,
      "outputs": [
        {
          "output_type": "execute_result",
          "data": {
            "text/plain": [
              "'1.5.0+cu101'"
            ]
          },
          "metadata": {
            "tags": []
          },
          "execution_count": 2
        }
      ]
    },
    {
      "cell_type": "markdown",
      "metadata": {
        "id": "Y7lVu2FZe1sB",
        "colab_type": "text"
      },
      "source": [
        "## Converting NumPy arrays to PyTorch tensors\n",
        "A <a href='https://pytorch.org/docs/stable/tensors.html'><strong><tt>torch.Tensor</tt></strong></a> is a multi-dimensional matrix containing elements of a single data type.<br>\n",
        "Calculations between tensors can only happen if the tensors share the same dtype.<br>\n",
        "In some cases tensors are used as a replacement for NumPy to use the power of GPUs (more on this later)."
      ]
    },
    {
      "cell_type": "code",
      "metadata": {
        "id": "Xot2VZU-e1sC",
        "colab_type": "code",
        "outputId": "4d72662a-4914-4dbd-c14e-2300a1ab9816",
        "colab": {
          "base_uri": "https://localhost:8080/",
          "height": 68
        }
      },
      "source": [
        "arr = np.array([1,2,3,4,5])\n",
        "print(arr)\n",
        "print(arr.dtype)\n",
        "print(type(arr))"
      ],
      "execution_count": 3,
      "outputs": [
        {
          "output_type": "stream",
          "text": [
            "[1 2 3 4 5]\n",
            "int64\n",
            "<class 'numpy.ndarray'>\n"
          ],
          "name": "stdout"
        }
      ]
    },
    {
      "cell_type": "code",
      "metadata": {
        "id": "bBUYOgZOe1sF",
        "colab_type": "code",
        "outputId": "08a7bf06-0021-4918-999c-c9554288dc59",
        "colab": {
          "base_uri": "https://localhost:8080/",
          "height": 34
        }
      },
      "source": [
        "x = torch.from_numpy(arr)\n",
        "# Equivalent to x = torch.as_tensor(arr)\n",
        "\n",
        "print(x)"
      ],
      "execution_count": 4,
      "outputs": [
        {
          "output_type": "stream",
          "text": [
            "tensor([1, 2, 3, 4, 5])\n"
          ],
          "name": "stdout"
        }
      ]
    },
    {
      "cell_type": "code",
      "metadata": {
        "id": "w7RSc2Xge1sI",
        "colab_type": "code",
        "outputId": "e31abb3f-d9a2-43a4-fbb2-effcc9ce2bc2",
        "colab": {
          "base_uri": "https://localhost:8080/",
          "height": 34
        }
      },
      "source": [
        "# Print the type of data held by the tensor\n",
        "print(x.dtype)"
      ],
      "execution_count": 5,
      "outputs": [
        {
          "output_type": "stream",
          "text": [
            "torch.int64\n"
          ],
          "name": "stdout"
        }
      ]
    },
    {
      "cell_type": "code",
      "metadata": {
        "id": "-oNnqrXce1sL",
        "colab_type": "code",
        "outputId": "5512c3de-2b6e-410a-8908-37f6bda2ee68",
        "colab": {
          "base_uri": "https://localhost:8080/",
          "height": 51
        }
      },
      "source": [
        "# Print the tensor object type\n",
        "print(type(x))\n",
        "print(x.type()) # this is more specific!"
      ],
      "execution_count": 6,
      "outputs": [
        {
          "output_type": "stream",
          "text": [
            "<class 'torch.Tensor'>\n",
            "torch.LongTensor\n"
          ],
          "name": "stdout"
        }
      ]
    },
    {
      "cell_type": "code",
      "metadata": {
        "id": "Vm9KNkTYe1sO",
        "colab_type": "code",
        "outputId": "c5baeb80-b29a-41c0-e6dc-7dc9dd71587e",
        "colab": {
          "base_uri": "https://localhost:8080/",
          "height": 85
        }
      },
      "source": [
        "arr2 = np.arange(0.,12.).reshape(4,3)\n",
        "print(arr2)"
      ],
      "execution_count": 7,
      "outputs": [
        {
          "output_type": "stream",
          "text": [
            "[[ 0.  1.  2.]\n",
            " [ 3.  4.  5.]\n",
            " [ 6.  7.  8.]\n",
            " [ 9. 10. 11.]]\n"
          ],
          "name": "stdout"
        }
      ]
    },
    {
      "cell_type": "code",
      "metadata": {
        "id": "mc-BzPXYe1sR",
        "colab_type": "code",
        "outputId": "fd61e1fa-5c35-4868-e13d-bde32e1b48e9",
        "colab": {
          "base_uri": "https://localhost:8080/",
          "height": 102
        }
      },
      "source": [
        "x2 = torch.from_numpy(arr2)\n",
        "print(x2)\n",
        "print(x2.type())"
      ],
      "execution_count": 8,
      "outputs": [
        {
          "output_type": "stream",
          "text": [
            "tensor([[ 0.,  1.,  2.],\n",
            "        [ 3.,  4.,  5.],\n",
            "        [ 6.,  7.,  8.],\n",
            "        [ 9., 10., 11.]], dtype=torch.float64)\n",
            "torch.DoubleTensor\n"
          ],
          "name": "stdout"
        }
      ]
    },
    {
      "cell_type": "markdown",
      "metadata": {
        "id": "V3yNYYOle1sU",
        "colab_type": "text"
      },
      "source": [
        "Here <tt>torch.DoubleTensor</tt> refers to 64-bit floating point data."
      ]
    },
    {
      "cell_type": "markdown",
      "metadata": {
        "id": "zYREhe3Qe1sU",
        "colab_type": "text"
      },
      "source": [
        "<h2><a href='https://pytorch.org/docs/stable/tensors.html'>Tensor Datatypes</a></h2>\n",
        "<table style=\"display: inline-block\">\n",
        "<tr><th>TYPE</th><th>NAME</th><th>EQUIVALENT</th><th>TENSOR TYPE</th></tr>\n",
        "<tr><td>32-bit integer (signed)</td><td>torch.int32</td><td>torch.int</td><td>IntTensor</td></tr>\n",
        "<tr><td>64-bit integer (signed)</td><td>torch.int64</td><td>torch.long</td><td>LongTensor</td></tr>\n",
        "<tr><td>16-bit integer (signed)</td><td>torch.int16</td><td>torch.short</td><td>ShortTensor</td></tr>\n",
        "<tr><td>32-bit floating point</td><td>torch.float32</td><td>torch.float</td><td>FloatTensor</td></tr>\n",
        "<tr><td>64-bit floating point</td><td>torch.float64</td><td>torch.double</td><td>DoubleTensor</td></tr>\n",
        "<tr><td>16-bit floating point</td><td>torch.float16</td><td>torch.half</td><td>HalfTensor</td></tr>\n",
        "<tr><td>8-bit integer (signed)</td><td>torch.int8</td><td></td><td>CharTensor</td></tr>\n",
        "<tr><td>8-bit integer (unsigned)</td><td>torch.uint8</td><td></td><td>ByteTensor</td></tr></table>"
      ]
    },
    {
      "cell_type": "markdown",
      "metadata": {
        "id": "TD3BlWvDe1sV",
        "colab_type": "text"
      },
      "source": [
        "## Copying vs. sharing"
      ]
    },
    {
      "cell_type": "markdown",
      "metadata": {
        "id": "s0Acnjm1e1sV",
        "colab_type": "text"
      },
      "source": [
        "<a href='https://pytorch.org/docs/stable/torch.html#torch.from_numpy'><strong><tt>torch.from_numpy()</tt></strong></a><br>\n",
        "<a href='https://pytorch.org/docs/stable/torch.html#torch.as_tensor'><strong><tt>torch.as_tensor()</tt></strong></a><br>\n",
        "<a href='https://pytorch.org/docs/stable/torch.html#torch.tensor'><strong><tt>torch.tensor()</tt></strong></a><br>\n",
        "\n",
        "There are a number of different functions available for <a href='https://pytorch.org/docs/stable/torch.html#creation-ops'>creating tensors</a>. When using <a href='https://pytorch.org/docs/stable/torch.html#torch.from_numpy'><strong><tt>torch.from_numpy()</tt></strong></a> and <a href='https://pytorch.org/docs/stable/torch.html#torch.as_tensor'><strong><tt>torch.as_tensor()</tt></strong></a>, the PyTorch tensor and the source NumPy array share the same memory. This means that changes to one affect the other. However, the <a href='https://pytorch.org/docs/stable/torch.html#torch.tensor'><strong><tt>torch.tensor()</tt></strong></a> function always makes a copy."
      ]
    },
    {
      "cell_type": "code",
      "metadata": {
        "id": "pU8je4Qce1sW",
        "colab_type": "code",
        "outputId": "b00a2288-f494-4369-fdfc-ddea4e9a2b88",
        "colab": {
          "base_uri": "https://localhost:8080/",
          "height": 34
        }
      },
      "source": [
        "# Using torch.from_numpy(), shares same memory\n",
        "arr = np.arange(0,5)\n",
        "t = torch.from_numpy(arr)\n",
        "print(t)"
      ],
      "execution_count": 13,
      "outputs": [
        {
          "output_type": "stream",
          "text": [
            "tensor([0, 1, 2, 3, 4])\n"
          ],
          "name": "stdout"
        }
      ]
    },
    {
      "cell_type": "code",
      "metadata": {
        "id": "F43q258ae1sY",
        "colab_type": "code",
        "outputId": "527e86e2-e3e0-47a7-fd26-af479facf982",
        "colab": {
          "base_uri": "https://localhost:8080/",
          "height": 34
        }
      },
      "source": [
        "arr[2]=77\n",
        "print(t)"
      ],
      "execution_count": 14,
      "outputs": [
        {
          "output_type": "stream",
          "text": [
            "tensor([ 0,  1, 77,  3,  4])\n"
          ],
          "name": "stdout"
        }
      ]
    },
    {
      "cell_type": "code",
      "metadata": {
        "id": "teoI_dW3e1sd",
        "colab_type": "code",
        "outputId": "5a5d5b01-1d54-4bbb-9921-d08294665547",
        "colab": {
          "base_uri": "https://localhost:8080/",
          "height": 34
        }
      },
      "source": [
        "# Using torch.tensor(), makes a copy\n",
        "arr = np.arange(0,5)\n",
        "t = torch.tensor(arr)\n",
        "print(t)"
      ],
      "execution_count": 15,
      "outputs": [
        {
          "output_type": "stream",
          "text": [
            "tensor([0, 1, 2, 3, 4])\n"
          ],
          "name": "stdout"
        }
      ]
    },
    {
      "cell_type": "code",
      "metadata": {
        "id": "TI1miHSLe1sf",
        "colab_type": "code",
        "outputId": "ce6ecf04-d172-45b0-e113-01294b381627",
        "colab": {
          "base_uri": "https://localhost:8080/",
          "height": 34
        }
      },
      "source": [
        "arr[2]=77\n",
        "print(t)"
      ],
      "execution_count": 16,
      "outputs": [
        {
          "output_type": "stream",
          "text": [
            "tensor([0, 1, 2, 3, 4])\n"
          ],
          "name": "stdout"
        }
      ]
    },
    {
      "cell_type": "markdown",
      "metadata": {
        "id": "KzSKMFvUe1si",
        "colab_type": "text"
      },
      "source": [
        "## Class constructors\n",
        "<a href='https://pytorch.org/docs/stable/tensors.html'><strong><tt>torch.Tensor()</tt></strong></a><br>\n",
        "<a href='https://pytorch.org/docs/stable/tensors.html'><strong><tt>torch.FloatTensor()</tt></strong></a><br>\n",
        "<a href='https://pytorch.org/docs/stable/tensors.html'><strong><tt>torch.LongTensor()</tt></strong></a>, etc.<br>\n",
        "\n",
        "There's a subtle difference between using the factory function <font color=black><tt>torch.tensor(data)</tt></font> and the class constructor <font color=black><tt>torch.Tensor(data)</tt></font>.<br>\n",
        "The factory function determines the dtype from the incoming data, or from a passed-in dtype argument.<br>\n",
        "The class constructor <tt>torch.Tensor()</tt>is simply an alias for <tt>torch.FloatTensor(data)</tt>. Consider the following:"
      ]
    },
    {
      "cell_type": "code",
      "metadata": {
        "id": "-iBg4PAhe1si",
        "colab_type": "code",
        "colab": {}
      },
      "source": [
        "data = np.array([1,2,3])"
      ],
      "execution_count": 0,
      "outputs": []
    },
    {
      "cell_type": "code",
      "metadata": {
        "id": "BnJy2VWSe1sl",
        "colab_type": "code",
        "outputId": "f4c8b272-1d7e-4d73-c209-37103c06cb14",
        "colab": {
          "base_uri": "https://localhost:8080/",
          "height": 34
        }
      },
      "source": [
        "a = torch.Tensor(data)  # Equivalent to cc = torch.FloatTensor(data)\n",
        "print(a, a.type())"
      ],
      "execution_count": 18,
      "outputs": [
        {
          "output_type": "stream",
          "text": [
            "tensor([1., 2., 3.]) torch.FloatTensor\n"
          ],
          "name": "stdout"
        }
      ]
    },
    {
      "cell_type": "code",
      "metadata": {
        "id": "7D289GyJe1sn",
        "colab_type": "code",
        "outputId": "8ed339f8-59bb-454b-e3f5-31037dd5060d",
        "colab": {
          "base_uri": "https://localhost:8080/",
          "height": 34
        }
      },
      "source": [
        "b = torch.tensor(data)\n",
        "print(b, b.type())"
      ],
      "execution_count": 19,
      "outputs": [
        {
          "output_type": "stream",
          "text": [
            "tensor([1, 2, 3]) torch.LongTensor\n"
          ],
          "name": "stdout"
        }
      ]
    },
    {
      "cell_type": "code",
      "metadata": {
        "id": "J_HelOM1e1sq",
        "colab_type": "code",
        "outputId": "c6fedc85-da70-41be-a1bb-b580d4a6b85a",
        "colab": {
          "base_uri": "https://localhost:8080/",
          "height": 34
        }
      },
      "source": [
        "c = torch.tensor(data, dtype=torch.long)\n",
        "print(c, c.type())"
      ],
      "execution_count": 21,
      "outputs": [
        {
          "output_type": "stream",
          "text": [
            "tensor([1, 2, 3]) torch.LongTensor\n"
          ],
          "name": "stdout"
        }
      ]
    },
    {
      "cell_type": "markdown",
      "metadata": {
        "id": "a21H2ys0e1st",
        "colab_type": "text"
      },
      "source": [
        "## Creating tensors from scratch\n",
        "### Uninitialized tensors with <tt>.empty()</tt>\n",
        "<a href='https://pytorch.org/docs/stable/torch.html#torch.empty'><strong><tt>torch.empty()</tt></strong></a> returns an <em>uninitialized</em> tensor. Essentially a block of memory is allocated according to the size of the tensor, and any values already sitting in the block are returned. This is similar to the behavior of <tt>numpy.empty()</tt>."
      ]
    },
    {
      "cell_type": "code",
      "metadata": {
        "id": "tnUn9-H2e1st",
        "colab_type": "code",
        "outputId": "8bbd5ff3-8b1b-434b-8f80-5be35db5f8e7",
        "colab": {
          "base_uri": "https://localhost:8080/",
          "height": 85
        }
      },
      "source": [
        "x = torch.empty(4, 3)\n",
        "print(x)"
      ],
      "execution_count": 22,
      "outputs": [
        {
          "output_type": "stream",
          "text": [
            "tensor([[4.4866e-36, 0.0000e+00, 3.3631e-44],\n",
            "        [0.0000e+00,        nan, 0.0000e+00],\n",
            "        [1.1578e+27, 1.1362e+30, 7.1547e+22],\n",
            "        [4.5828e+30, 1.2121e+04, 7.1846e+22]])\n"
          ],
          "name": "stdout"
        }
      ]
    },
    {
      "cell_type": "markdown",
      "metadata": {
        "id": "o9tOTmDle1sv",
        "colab_type": "text"
      },
      "source": [
        "### Initialized tensors with <tt>.zeros()</tt> and <tt>.ones()</tt>\n",
        "<a href='https://pytorch.org/docs/stable/torch.html#torch.zeros'><strong><tt>torch.zeros(size)</tt></strong></a><br>\n",
        "<a href='https://pytorch.org/docs/stable/torch.html#torch.ones'><strong><tt>torch.ones(size)</tt></strong></a><br>\n",
        "It's a good idea to pass in the intended dtype."
      ]
    },
    {
      "cell_type": "code",
      "metadata": {
        "id": "m0GfhFfKe1sw",
        "colab_type": "code",
        "outputId": "46243d08-93ef-431e-9ac9-f2d36110c098",
        "colab": {
          "base_uri": "https://localhost:8080/",
          "height": 85
        }
      },
      "source": [
        "x = torch.zeros(4, 3, dtype=torch.int64)\n",
        "print(x)"
      ],
      "execution_count": 23,
      "outputs": [
        {
          "output_type": "stream",
          "text": [
            "tensor([[0, 0, 0],\n",
            "        [0, 0, 0],\n",
            "        [0, 0, 0],\n",
            "        [0, 0, 0]])\n"
          ],
          "name": "stdout"
        }
      ]
    },
    {
      "cell_type": "markdown",
      "metadata": {
        "id": "V9fz_P7ae1sy",
        "colab_type": "text"
      },
      "source": [
        "### Tensors from ranges\n",
        "<a href='https://pytorch.org/docs/stable/torch.html#torch.arange'><strong><tt>torch.arange(start,end,step)</tt></strong></a><br>\n",
        "<a href='https://pytorch.org/docs/stable/torch.html#torch.linspace'><strong><tt>torch.linspace(start,end,steps)</tt></strong></a><br>\n",
        "Note that with <tt>.arange()</tt>, <tt>end</tt> is exclusive, while with <tt>linspace()</tt>, <tt>end</tt> is inclusive."
      ]
    },
    {
      "cell_type": "code",
      "metadata": {
        "id": "g-OWAKn-e1sz",
        "colab_type": "code",
        "outputId": "015b5b41-58b5-4d60-b707-ae5ee135dca9",
        "colab": {
          "base_uri": "https://localhost:8080/",
          "height": 68
        }
      },
      "source": [
        "x = torch.arange(0,18,2).reshape(3,3)\n",
        "print(x)"
      ],
      "execution_count": 26,
      "outputs": [
        {
          "output_type": "stream",
          "text": [
            "tensor([[ 0,  2,  4],\n",
            "        [ 6,  8, 10],\n",
            "        [12, 14, 16]])\n"
          ],
          "name": "stdout"
        }
      ]
    },
    {
      "cell_type": "code",
      "metadata": {
        "id": "CZtKXHOie1s1",
        "colab_type": "code",
        "outputId": "de92a8e6-edd2-4bac-a702-a61b784bb4f6",
        "colab": {
          "base_uri": "https://localhost:8080/",
          "height": 68
        }
      },
      "source": [
        "x = torch.linspace(0,18,12).reshape(3,4)\n",
        "print(x)"
      ],
      "execution_count": 27,
      "outputs": [
        {
          "output_type": "stream",
          "text": [
            "tensor([[ 0.0000,  1.6364,  3.2727,  4.9091],\n",
            "        [ 6.5455,  8.1818,  9.8182, 11.4545],\n",
            "        [13.0909, 14.7273, 16.3636, 18.0000]])\n"
          ],
          "name": "stdout"
        }
      ]
    },
    {
      "cell_type": "markdown",
      "metadata": {
        "id": "t0A1kgwBe1s3",
        "colab_type": "text"
      },
      "source": [
        "### Tensors from data\n",
        "<tt>torch.tensor()</tt> will choose the dtype based on incoming data:"
      ]
    },
    {
      "cell_type": "code",
      "metadata": {
        "id": "XM0p029Oe1s4",
        "colab_type": "code",
        "outputId": "4704da83-7091-49a9-e593-3437a20b3747",
        "colab": {
          "base_uri": "https://localhost:8080/",
          "height": 68
        }
      },
      "source": [
        "x = torch.tensor([1, 2, 3, 4])\n",
        "print(x)\n",
        "print(x.dtype)\n",
        "print(x.type())"
      ],
      "execution_count": 28,
      "outputs": [
        {
          "output_type": "stream",
          "text": [
            "tensor([1, 2, 3, 4])\n",
            "torch.int64\n",
            "torch.LongTensor\n"
          ],
          "name": "stdout"
        }
      ]
    },
    {
      "cell_type": "code",
      "metadata": {
        "id": "I58bi2r0nsyn",
        "colab_type": "code",
        "colab": {
          "base_uri": "https://localhost:8080/",
          "height": 51
        },
        "outputId": "c9aacc83-a82e-40f2-9db1-a68116b76f58"
      },
      "source": [
        "# Converting type\n",
        "x = x.type(torch.int16)\n",
        "print(x.dtype)\n",
        "print(x.type())"
      ],
      "execution_count": 30,
      "outputs": [
        {
          "output_type": "stream",
          "text": [
            "torch.int16\n",
            "torch.ShortTensor\n"
          ],
          "name": "stdout"
        }
      ]
    },
    {
      "cell_type": "markdown",
      "metadata": {
        "id": "GL0X_gv6e1s6",
        "colab_type": "text"
      },
      "source": [
        "Alternatively you can set the type by the tensor method used.\n",
        "For a list of tensor types visit https://pytorch.org/docs/stable/tensors.html"
      ]
    },
    {
      "cell_type": "code",
      "metadata": {
        "id": "rsBL-_T5e1s6",
        "colab_type": "code",
        "outputId": "e2a434f3-fbac-49db-a892-479df1f7b2f4",
        "colab": {
          "base_uri": "https://localhost:8080/",
          "height": 68
        }
      },
      "source": [
        "x = torch.FloatTensor([5,6,7])\n",
        "print(x)\n",
        "print(x.dtype)\n",
        "print(x.type())"
      ],
      "execution_count": 31,
      "outputs": [
        {
          "output_type": "stream",
          "text": [
            "tensor([5., 6., 7.])\n",
            "torch.float32\n",
            "torch.FloatTensor\n"
          ],
          "name": "stdout"
        }
      ]
    },
    {
      "cell_type": "markdown",
      "metadata": {
        "id": "6N2xyGrEe1s-",
        "colab_type": "text"
      },
      "source": [
        "You can also pass the dtype in as an argument. For a list of dtypes visit https://pytorch.org/docs/stable/tensor_attributes.html#torch.torch.dtype<br>"
      ]
    },
    {
      "cell_type": "code",
      "metadata": {
        "id": "XenI9-9ke1s-",
        "colab_type": "code",
        "outputId": "be28b6b6-47ff-4062-f94d-c22fbe50629a",
        "colab": {
          "base_uri": "https://localhost:8080/",
          "height": 68
        }
      },
      "source": [
        "x = torch.tensor([8,9,-3], dtype=torch.int)\n",
        "print(x)\n",
        "print(x.dtype)\n",
        "print(x.type())"
      ],
      "execution_count": 32,
      "outputs": [
        {
          "output_type": "stream",
          "text": [
            "tensor([ 8,  9, -3], dtype=torch.int32)\n",
            "torch.int32\n",
            "torch.IntTensor\n"
          ],
          "name": "stdout"
        }
      ]
    },
    {
      "cell_type": "markdown",
      "metadata": {
        "id": "9mqTJZdCe1tB",
        "colab_type": "text"
      },
      "source": [
        "### Changing the dtype of existing tensors\n",
        "Don't be tempted to use <tt>x = torch.tensor(x, dtype=torch.type)</tt> as it will raise an error about improper use of tensor cloning.<br>\n",
        "Instead, use the tensor <tt>.type()</tt> method."
      ]
    },
    {
      "cell_type": "code",
      "metadata": {
        "id": "-6UNwU88e1tB",
        "colab_type": "code",
        "outputId": "f58f0453-4501-4314-cef4-521462b61d73",
        "colab": {
          "base_uri": "https://localhost:8080/",
          "height": 51
        }
      },
      "source": [
        "print('Old:', x.type())\n",
        "\n",
        "x = x.type(torch.int64)\n",
        "\n",
        "print('New:', x.type())"
      ],
      "execution_count": 33,
      "outputs": [
        {
          "output_type": "stream",
          "text": [
            "Old: torch.IntTensor\n",
            "New: torch.LongTensor\n"
          ],
          "name": "stdout"
        }
      ]
    },
    {
      "cell_type": "markdown",
      "metadata": {
        "id": "1UhAxbw1e1tD",
        "colab_type": "text"
      },
      "source": [
        "### Random number tensors\n",
        "<a href='https://pytorch.org/docs/stable/torch.html#torch.rand'><strong><tt>torch.rand(size)</tt></strong></a> returns random samples from a uniform distribution over [0, 1)<br>\n",
        "<a href='https://pytorch.org/docs/stable/torch.html#torch.randn'><strong><tt>torch.randn(size)</tt></strong></a> returns samples from the \"standard normal\" distribution [σ = 1]<br>\n",
        "&nbsp;&nbsp;&nbsp;&nbsp;Unlike <tt>rand</tt> which is uniform, values closer to zero are more likely to appear.<br>\n",
        "<a href='https://pytorch.org/docs/stable/torch.html#torch.randint'><strong><tt>torch.randint(low,high,size)</tt></strong></a> returns random integers from low (inclusive) to high (exclusive)"
      ]
    },
    {
      "cell_type": "code",
      "metadata": {
        "id": "kx-vw33Qe1tE",
        "colab_type": "code",
        "outputId": "7e30937f-6a86-4cf7-e29c-b98b61d3fa1a",
        "colab": {
          "base_uri": "https://localhost:8080/",
          "height": 85
        }
      },
      "source": [
        "x = torch.rand(4, 3)\n",
        "print(x)"
      ],
      "execution_count": 34,
      "outputs": [
        {
          "output_type": "stream",
          "text": [
            "tensor([[0.6682, 0.3914, 0.5425],\n",
            "        [0.2000, 0.3056, 0.9103],\n",
            "        [0.7039, 0.5021, 0.9170],\n",
            "        [0.4305, 0.7270, 0.6577]])\n"
          ],
          "name": "stdout"
        }
      ]
    },
    {
      "cell_type": "code",
      "metadata": {
        "id": "jSLPQ21oe1tG",
        "colab_type": "code",
        "outputId": "f1d8029d-07db-4585-8699-728af063bd31",
        "colab": {
          "base_uri": "https://localhost:8080/",
          "height": 85
        }
      },
      "source": [
        "x = torch.randn(4, 3)\n",
        "print(x)"
      ],
      "execution_count": 35,
      "outputs": [
        {
          "output_type": "stream",
          "text": [
            "tensor([[ 0.4623, -0.2561, -0.5399],\n",
            "        [-0.6609, -0.6707,  0.6866],\n",
            "        [-0.9742, -0.3833,  0.1253],\n",
            "        [ 0.1251, -0.7600, -1.8088]])\n"
          ],
          "name": "stdout"
        }
      ]
    },
    {
      "cell_type": "code",
      "metadata": {
        "id": "hElN85uBe1tI",
        "colab_type": "code",
        "outputId": "33a6a3f4-848f-4010-fb74-c5d15f3d7ce3",
        "colab": {
          "base_uri": "https://localhost:8080/",
          "height": 85
        }
      },
      "source": [
        "x = torch.randint(0, 5, (4, 3))\n",
        "print(x)"
      ],
      "execution_count": 36,
      "outputs": [
        {
          "output_type": "stream",
          "text": [
            "tensor([[0, 2, 2],\n",
            "        [3, 1, 2],\n",
            "        [3, 2, 1],\n",
            "        [2, 0, 4]])\n"
          ],
          "name": "stdout"
        }
      ]
    },
    {
      "cell_type": "markdown",
      "metadata": {
        "id": "tDxwMPMfe1tL",
        "colab_type": "text"
      },
      "source": [
        "### Random number tensors that follow the input size\n",
        "<a href='https://pytorch.org/docs/stable/torch.html#torch.rand_like'><strong><tt>torch.rand_like(input)</tt></strong></a><br>\n",
        "<a href='https://pytorch.org/docs/stable/torch.html#torch.randn_like'><strong><tt>torch.randn_like(input)</tt></strong></a><br>\n",
        "<a href='https://pytorch.org/docs/stable/torch.html#torch.randint_like'><strong><tt>torch.randint_like(input,low,high)</tt></strong></a><br> these return random number tensors with the same size as <tt>input</tt>"
      ]
    },
    {
      "cell_type": "code",
      "metadata": {
        "id": "CheQMmXae1tN",
        "colab_type": "code",
        "outputId": "86cb0476-0262-489c-acec-ff0d6e8d36cf",
        "colab": {
          "base_uri": "https://localhost:8080/",
          "height": 51
        }
      },
      "source": [
        "x = torch.zeros(2,5)\n",
        "print(x)"
      ],
      "execution_count": 37,
      "outputs": [
        {
          "output_type": "stream",
          "text": [
            "tensor([[0., 0., 0., 0., 0.],\n",
            "        [0., 0., 0., 0., 0.]])\n"
          ],
          "name": "stdout"
        }
      ]
    },
    {
      "cell_type": "code",
      "metadata": {
        "id": "lTbQUqS7e1tP",
        "colab_type": "code",
        "outputId": "a219c63f-5ff9-4ac6-8f86-877a42642c57",
        "colab": {
          "base_uri": "https://localhost:8080/",
          "height": 51
        }
      },
      "source": [
        "x2 = torch.randn_like(x)\n",
        "print(x2)"
      ],
      "execution_count": 38,
      "outputs": [
        {
          "output_type": "stream",
          "text": [
            "tensor([[-0.5288,  0.5442,  1.8976,  0.5154,  2.7177],\n",
            "        [-1.7115, -1.4005,  0.2681, -0.0782, -0.6214]])\n"
          ],
          "name": "stdout"
        }
      ]
    },
    {
      "cell_type": "markdown",
      "metadata": {
        "id": "m0LCx3cqe1tS",
        "colab_type": "text"
      },
      "source": [
        "The same syntax can be used with<br>\n",
        "<a href='https://pytorch.org/docs/stable/torch.html#torch.zeros_like'><strong><tt>torch.zeros_like(input)</tt></strong></a><br>\n",
        "<a href='https://pytorch.org/docs/stable/torch.html#torch.ones_like'><strong><tt>torch.ones_like(input)</tt></strong></a>"
      ]
    },
    {
      "cell_type": "code",
      "metadata": {
        "id": "KeXuvWOVe1tS",
        "colab_type": "code",
        "outputId": "476be428-218c-4c3c-85ac-c7063e114af6",
        "colab": {
          "base_uri": "https://localhost:8080/",
          "height": 51
        }
      },
      "source": [
        "x3 = torch.ones_like(x2)\n",
        "print(x3)"
      ],
      "execution_count": 39,
      "outputs": [
        {
          "output_type": "stream",
          "text": [
            "tensor([[1., 1., 1., 1., 1.],\n",
            "        [1., 1., 1., 1., 1.]])\n"
          ],
          "name": "stdout"
        }
      ]
    },
    {
      "cell_type": "markdown",
      "metadata": {
        "id": "zZPBC6xPe1tV",
        "colab_type": "text"
      },
      "source": [
        "### Setting the random seed\n",
        "<a href='https://pytorch.org/docs/stable/torch.html#torch.manual_seed'><strong><tt>torch.manual_seed(int)</tt></strong></a> is used to obtain reproducible results"
      ]
    },
    {
      "cell_type": "code",
      "metadata": {
        "id": "qwCpxq3Te1tV",
        "colab_type": "code",
        "outputId": "c6ca2696-082f-4ac8-e244-216872271d89",
        "colab": {
          "base_uri": "https://localhost:8080/",
          "height": 51
        }
      },
      "source": [
        "torch.manual_seed(42)\n",
        "x = torch.rand(2, 3)\n",
        "print(x)"
      ],
      "execution_count": 40,
      "outputs": [
        {
          "output_type": "stream",
          "text": [
            "tensor([[0.8823, 0.9150, 0.3829],\n",
            "        [0.9593, 0.3904, 0.6009]])\n"
          ],
          "name": "stdout"
        }
      ]
    },
    {
      "cell_type": "code",
      "metadata": {
        "id": "saerYpdRe1tX",
        "colab_type": "code",
        "outputId": "9aaa5c10-43e7-4f63-f539-510e2bf63307",
        "colab": {
          "base_uri": "https://localhost:8080/",
          "height": 51
        }
      },
      "source": [
        "torch.manual_seed(42)\n",
        "x = torch.rand(2, 3)\n",
        "print(x)"
      ],
      "execution_count": 41,
      "outputs": [
        {
          "output_type": "stream",
          "text": [
            "tensor([[0.8823, 0.9150, 0.3829],\n",
            "        [0.9593, 0.3904, 0.6009]])\n"
          ],
          "name": "stdout"
        }
      ]
    },
    {
      "cell_type": "markdown",
      "metadata": {
        "id": "RkuQrqxae1tZ",
        "colab_type": "text"
      },
      "source": [
        "## Tensor attributes\n",
        "Besides <tt>dtype</tt>, we can look at other <a href='https://pytorch.org/docs/stable/tensor_attributes.html'>tensor attributes</a> like <tt>shape</tt>, <tt>device</tt> and <tt>layout</tt>"
      ]
    },
    {
      "cell_type": "code",
      "metadata": {
        "id": "21QgTSC2e1tZ",
        "colab_type": "code",
        "outputId": "d749bc0d-8850-4ec6-e872-5732016002e9",
        "colab": {
          "base_uri": "https://localhost:8080/",
          "height": 34
        }
      },
      "source": [
        "x.shape"
      ],
      "execution_count": 42,
      "outputs": [
        {
          "output_type": "execute_result",
          "data": {
            "text/plain": [
              "torch.Size([2, 3])"
            ]
          },
          "metadata": {
            "tags": []
          },
          "execution_count": 42
        }
      ]
    },
    {
      "cell_type": "code",
      "metadata": {
        "id": "vhcOdSEee1tc",
        "colab_type": "code",
        "outputId": "ec26b384-1f22-4ffe-e8dd-11ec310d2785",
        "colab": {
          "base_uri": "https://localhost:8080/",
          "height": 34
        }
      },
      "source": [
        "x.size()  # equivalent to x.shape"
      ],
      "execution_count": 43,
      "outputs": [
        {
          "output_type": "execute_result",
          "data": {
            "text/plain": [
              "torch.Size([2, 3])"
            ]
          },
          "metadata": {
            "tags": []
          },
          "execution_count": 43
        }
      ]
    },
    {
      "cell_type": "code",
      "metadata": {
        "id": "X1RoUzuwe1te",
        "colab_type": "code",
        "outputId": "3282e32c-ba14-4921-a208-961397ef50ec",
        "colab": {
          "base_uri": "https://localhost:8080/",
          "height": 34
        }
      },
      "source": [
        "x.device"
      ],
      "execution_count": 44,
      "outputs": [
        {
          "output_type": "execute_result",
          "data": {
            "text/plain": [
              "device(type='cpu')"
            ]
          },
          "metadata": {
            "tags": []
          },
          "execution_count": 44
        }
      ]
    },
    {
      "cell_type": "markdown",
      "metadata": {
        "id": "IPNjfWp5e1tg",
        "colab_type": "text"
      },
      "source": [
        "PyTorch supports use of multiple <a href='https://pytorch.org/docs/stable/tensor_attributes.html#torch-device'>devices</a>, harnessing the power of one or more GPUs in addition to the CPU. We won't explore that here, but you should know that operations between tensors can only happen for tensors installed on the same device."
      ]
    },
    {
      "cell_type": "code",
      "metadata": {
        "scrolled": true,
        "id": "jGNxr-Tle1th",
        "colab_type": "code",
        "outputId": "edb85d91-5393-4cf4-9697-4b7a91a100c9",
        "colab": {
          "base_uri": "https://localhost:8080/",
          "height": 34
        }
      },
      "source": [
        "x.layout"
      ],
      "execution_count": 45,
      "outputs": [
        {
          "output_type": "execute_result",
          "data": {
            "text/plain": [
              "torch.strided"
            ]
          },
          "metadata": {
            "tags": []
          },
          "execution_count": 45
        }
      ]
    },
    {
      "cell_type": "markdown",
      "metadata": {
        "id": "Ja3eSsbue1tj",
        "colab_type": "text"
      },
      "source": [
        "PyTorch has a class to hold the <a href='https://pytorch.org/docs/stable/tensor_attributes.html#torch.torch.layout'>memory layout</a> option. The default setting of <a href='https://en.wikipedia.org/wiki/Stride_of_an_array'>strided</a> will suit our purposes throughout the course."
      ]
    }
  ]
}