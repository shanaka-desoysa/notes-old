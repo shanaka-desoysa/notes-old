{
  "nbformat": 4,
  "nbformat_minor": 0,
  "metadata": {
    "kernelspec": {
      "display_name": "Python 3",
      "language": "python",
      "name": "python3"
    },
    "language_info": {
      "codemirror_mode": {
        "name": "ipython",
        "version": 3
      },
      "file_extension": ".py",
      "mimetype": "text/x-python",
      "name": "python",
      "nbconvert_exporter": "python",
      "pygments_lexer": "ipython3",
      "version": "3.7.6"
    },
    "colab": {
      "name": "Python_Hello.ipynb",
      "provenance": [],
      "include_colab_link": true
    }
  },
  "cells": [
    {
      "cell_type": "markdown",
      "metadata": {
        "id": "view-in-github",
        "colab_type": "text"
      },
      "source": [
        "<a href=\"https://colab.research.google.com/github/shanaka-desoysa/notes/blob/master/content/python/basics/Python_Hello.ipynb\" target=\"_parent\"><img src=\"https://colab.research.google.com/assets/colab-badge.svg\" alt=\"Open In Colab\"/></a>"
      ]
    },
    {
      "cell_type": "markdown",
      "metadata": {
        "id": "l-pasoBnNtHb",
        "colab_type": "text"
      },
      "source": [
        "---\n",
        "title: \"Give Table An Alias\"\n",
        "author: \"Chris Albon\"\n",
        "date: 2020-05-10T00:00:00-07:00\n",
        "description: \"Give a table an alias in Snowflake using SQL.\"\n",
        "type: technical_note\n",
        "draft: false\n",
        "---"
      ]
    },
    {
      "cell_type": "markdown",
      "metadata": {
        "id": "TVHW8UboNlP-",
        "colab_type": "text"
      },
      "source": [
        "# Hello World"
      ]
    },
    {
      "cell_type": "code",
      "metadata": {
        "id": "aEvnmxZbNlP_",
        "colab_type": "code",
        "colab": {},
        "outputId": "e6b6a8b3-a5bf-4963-e9d5-336988d4e3af"
      },
      "source": [
        "print('Hello World')"
      ],
      "execution_count": 0,
      "outputs": [
        {
          "output_type": "stream",
          "text": [
            "Hello World\n"
          ],
          "name": "stdout"
        }
      ]
    },
    {
      "cell_type": "code",
      "metadata": {
        "id": "dCJxzyNRNlQD",
        "colab_type": "code",
        "colab": {},
        "outputId": "41600520-a605-47cb-c3c3-032fcc4183b4"
      },
      "source": [
        "1==1"
      ],
      "execution_count": 0,
      "outputs": [
        {
          "output_type": "execute_result",
          "data": {
            "text/plain": [
              "True"
            ]
          },
          "metadata": {
            "tags": []
          },
          "execution_count": 2
        }
      ]
    }
  ]
}